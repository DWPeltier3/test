{
 "cells": [
  {
   "cell_type": "code",
   "execution_count": 1,
   "metadata": {},
   "outputs": [],
   "source": [
    "import scipy.io as sio\n",
    "import numpy as np\n",
    "from sklearn.preprocessing import StandardScaler\n",
    "from sklearn.utils import shuffle\n",
    "from sklearn.model_selection import train_test_split"
   ]
  },
  {
   "cell_type": "code",
   "execution_count": 2,
   "metadata": {},
   "outputs": [
    {
     "name": "stdout",
     "output_type": "stream",
     "text": [
      "num runs: 1200\n",
      "run1: 400\n",
      "run2: 400\n",
      "run3: 400\n",
      "num features: 12\n",
      "time lengths: [60, 54, 55, 68, 54, 75, 72, 51, 62, 54, 60, 70, 74, 87, 57, 54, 68, 65, 54, 75, 60, 73, 68, 68, 60, 59, 61, 51, 54, 67, 61, 72, 65, 70, 64, 70, 54, 53, 55, 52, 56, 72, 59, 58, 53, 68, 55, 61, 53, 58, 59, 58, 52, 68, 53, 67, 54, 58, 62, 54, 72, 63, 65, 52, 56, 58, 56, 60, 52, 64, 59, 61, 53, 53, 63, 65, 73, 69, 61, 58, 68, 65, 55, 71, 54, 58, 72, 52, 58, 61, 54, 71, 55, 51, 57, 58, 52, 66, 73, 60, 62, 52, 55, 61, 68, 55, 57, 58, 55, 53, 61, 57, 58, 66, 57, 63, 64, 69, 61, 60, 56, 52, 51, 54, 58, 63, 60, 67, 67, 55, 58, 53, 59, 57, 63, 54, 57, 74, 64, 56, 56, 63, 54, 59, 64, 55, 66, 54, 48, 52, 55, 55, 63, 52, 84, 59, 67, 59, 53, 53, 62, 59, 66, 55, 55, 64, 57, 58, 82, 59, 61, 55, 57, 54, 63, 55, 51, 60, 52, 61, 62, 64, 65, 68, 56, 49, 57, 56, 51, 50, 60, 78, 74, 48, 52, 59, 47, 60, 55, 63, 74, 62, 58, 60, 57, 58, 54, 68, 52, 59, 79, 57, 59, 62, 54, 80, 55, 56, 55, 51, 73, 61, 66, 61, 60, 62, 66, 51, 59, 71, 60, 58, 64, 60, 67, 54, 69, 59, 53, 75, 69, 57, 52, 54, 70, 68, 58, 61, 52, 54, 66, 55, 61, 54, 69, 59, 62, 64, 55, 56, 56, 73, 64, 65, 67, 59, 54, 56, 52, 81, 59, 68, 58, 60, 67, 98, 59, 55, 59, 54, 56, 71, 66, 69, 60, 66, 61, 66, 57, 55, 59, 55, 52, 66, 53, 73, 68, 51, 58, 63, 50, 55, 59, 51, 51, 62, 60, 65, 55, 65, 53, 56, 63, 57, 53, 58, 70, 54, 77, 59, 63, 61, 58, 59, 48, 66, 52, 55, 54, 76, 62, 71, 62, 59, 57, 65, 60, 64, 55, 53, 55, 64, 73, 59, 53, 59, 55, 63, 62, 64, 56, 77, 55, 49, 63, 59, 58, 56, 55, 60, 57, 53, 55, 60, 49, 59, 56, 60, 55, 62, 66, 63, 66, 63, 55, 54, 69, 66, 53, 57, 53, 63, 56, 67, 54, 73, 56, 55, 54, 56, 55, 55, 53, 65, 61, 59, 59, 51, 64, 67, 76, 63, 79, 78, 61, 79, 77, 89, 82, 78, 79, 80, 75, 78, 77, 82, 79, 77, 75, 79, 78, 80, 80, 79, 79, 78, 76, 77, 73, 83, 82, 78, 77, 79, 78, 77, 76, 77, 79, 73, 78, 83, 75, 76, 79, 80, 86, 77, 76, 80, 77, 78, 75, 77, 62, 78, 62, 83, 78, 63, 79, 78, 79, 73, 78, 78, 75, 91, 59, 94, 76, 76, 77, 74, 77, 82, 83, 78, 78, 79, 79, 79, 74, 81, 75, 62, 85, 79, 79, 77, 77, 77, 74, 77, 74, 76, 74, 79, 80, 77, 79, 78, 76, 76, 77, 76, 76, 82, 81, 84, 79, 79, 66, 75, 77, 79, 83, 77, 78, 79, 63, 77, 58, 78, 78, 64, 74, 77, 80, 80, 87, 80, 76, 84, 74, 63, 79, 80, 83, 75, 77, 79, 58, 75, 77, 78, 77, 74, 79, 75, 78, 80, 81, 85, 77, 75, 78, 75, 60, 75, 77, 86, 81, 81, 81, 77, 76, 77, 79, 62, 88, 75, 79, 79, 81, 80, 75, 79, 75, 81, 75, 82, 79, 77, 73, 73, 78, 75, 76, 79, 79, 81, 78, 77, 61, 74, 78, 73, 76, 76, 79, 79, 77, 80, 77, 73, 60, 77, 80, 80, 77, 78, 78, 80, 74, 77, 76, 76, 64, 77, 76, 84, 80, 80, 81, 79, 77, 56, 74, 80, 79, 64, 74, 78, 73, 73, 75, 78, 61, 78, 81, 78, 59, 63, 77, 77, 79, 77, 77, 59, 79, 77, 77, 53, 78, 78, 81, 78, 75, 63, 77, 78, 78, 80, 78, 89, 80, 77, 79, 78, 65, 78, 65, 79, 93, 79, 78, 62, 77, 61, 64, 78, 77, 76, 76, 66, 76, 79, 86, 84, 79, 80, 79, 79, 58, 79, 76, 75, 75, 79, 74, 76, 75, 78, 76, 75, 77, 80, 79, 77, 78, 76, 78, 75, 76, 81, 76, 80, 79, 76, 73, 78, 72, 64, 79, 80, 75, 63, 79, 80, 74, 79, 77, 64, 81, 77, 78, 76, 78, 75, 83, 75, 81, 77, 74, 65, 74, 77, 77, 76, 59, 77, 76, 57, 86, 74, 72, 78, 79, 75, 68, 85, 75, 79, 55, 84, 64, 81, 62, 79, 82, 76, 92, 77, 64, 78, 79, 77, 78, 77, 79, 75, 77, 79, 61, 80, 64, 79, 61, 78, 77, 78, 79, 76, 75, 80, 76, 56, 76, 77, 65, 63, 63, 58, 61, 62, 62, 58, 66, 65, 78, 63, 79, 60, 65, 76, 82, 56, 78, 57, 66, 63, 60, 55, 62, 63, 57, 60, 63, 65, 60, 59, 62, 66, 65, 56, 62, 60, 60, 78, 62, 58, 64, 62, 60, 63, 82, 63, 60, 64, 64, 64, 58, 62, 61, 60, 61, 59, 59, 63, 79, 64, 65, 57, 65, 79, 56, 67, 59, 58, 62, 62, 76, 59, 62, 65, 75, 62, 57, 62, 61, 61, 79, 68, 58, 62, 54, 58, 64, 63, 62, 58, 61, 55, 62, 63, 58, 64, 60, 61, 63, 59, 60, 63, 64, 61, 62, 64, 59, 78, 61, 61, 63, 66, 76, 61, 63, 64, 76, 59, 62, 60, 60, 78, 67, 64, 80, 64, 64, 63, 59, 78, 64, 58, 65, 62, 63, 62, 60, 66, 62, 57, 60, 64, 65, 61, 63, 60, 56, 61, 78, 63, 81, 58, 64, 62, 63, 63, 59, 58, 59, 60, 61, 64, 61, 61, 63, 60, 58, 62, 57, 62, 63, 59, 82, 61, 58, 65, 60, 80, 65, 80, 75, 65, 63, 57, 65, 57, 59, 56, 63, 64, 59, 57, 61, 64, 52, 58, 78, 59, 83, 63, 60, 60, 57, 62, 60, 65, 77, 63, 56, 66, 63, 65, 62, 67, 77, 63, 64, 61, 64, 58, 56, 64, 65, 60, 62, 56, 61, 61, 61, 63, 66, 64, 67, 61, 69, 67, 61, 63, 63, 65, 58, 80, 66, 56, 59, 68, 57, 61, 63, 61, 62, 62, 63, 65, 78, 62, 60, 63, 59, 62, 57, 61, 82, 67, 62, 81, 61, 66, 63, 72, 65, 78, 60, 63, 62, 61, 76, 62, 64, 65, 60, 67, 65, 66, 61, 60, 64, 62, 62, 62, 56, 60, 57, 62, 62, 55, 76, 61, 55, 60, 59, 59, 62, 58, 60, 65, 54, 54, 57, 60, 60, 61, 60, 56, 60, 61, 63, 63, 62, 66, 62, 64, 55, 60, 58, 62, 64, 63, 63, 78, 66, 64, 83, 77, 63, 64, 62, 58, 61, 67, 63, 61, 58, 64, 61, 62, 60, 58, 63, 62, 60, 56, 63, 65, 61, 62, 61, 58, 68, 78, 60, 78, 55, 65, 65, 65, 61, 62, 65, 66, 57, 81, 63, 60, 64, 66, 61, 77, 76, 61, 60, 61, 61, 60, 63, 62, 60, 54, 65, 78, 62, 81, 62, 61, 60, 60, 68, 63]\n",
      "max time: 98\n",
      "min time: 47\n"
     ]
    }
   ],
   "source": [
    "## IMPORT MATLAB matrix as np array\n",
    "data1='data_g.mat'\n",
    "data2='data_s.mat'\n",
    "data3='data_m.mat'\n",
    "mat1 = sio.loadmat(data1) # insert your filename here\n",
    "mat2 = sio.loadmat(data2)\n",
    "mat3 = sio.loadmat(data3)\n",
    "mat1=np.array(mat1['data'])\n",
    "mat2=np.array(mat2['data'])\n",
    "mat3=np.array(mat3['data'])\n",
    "mat=np.vstack((mat1,mat2,mat3))\n",
    "\n",
    "## DETERMINE DIMENSIONS\n",
    "num_runs = len(mat)\n",
    "run1 = len(mat1) #number of category 1\n",
    "run2 = len(mat2) #number of category 2\n",
    "run3 = len(mat2) #number of category 3\n",
    "num_feat=len(mat[0][0][0][0])\n",
    "time=[]\n",
    "for run in range(num_runs):\n",
    "    time.append(len(mat[run][0][0]))\n",
    "max_time = max(time)\n",
    "min_time = min(time)\n",
    "print('num runs:',num_runs)\n",
    "print('run1:',run1)\n",
    "print('run2:',run2)\n",
    "print('run3:',run3)\n",
    "print('num features:',num_feat)\n",
    "print('time lengths:',time)\n",
    "print('max time:',max_time)\n",
    "print('min time:',min_time)\n"
   ]
  },
  {
   "cell_type": "code",
   "execution_count": 3,
   "metadata": {},
   "outputs": [
    {
     "name": "stdout",
     "output_type": "stream",
     "text": [
      "data shape: (1200, 47, 12)\n",
      "label shape (1200, 1)\n",
      "label sample [[0]\n",
      " [0]\n",
      " [0]\n",
      " [0]\n",
      " [0]] \n",
      " [[1]\n",
      " [1]\n",
      " [1]\n",
      " [1]\n",
      " [1]] \n",
      " [[2]\n",
      " [2]\n",
      " [2]\n",
      " [2]\n",
      " [2]]\n"
     ]
    }
   ],
   "source": [
    "# CREATE PYTHON DATA ARRAY\n",
    "# (MIN or PAD): pad did not work b/c introduces false data\n",
    "\n",
    "# MIN TIME (truncate each run to \"min time\" length; prevents jagged array, all instances have same time length)\n",
    "data=mat[0,0][:,:min_time] #first run\n",
    "for run in range(1,num_runs): #stack subsuquent runs\n",
    "    temp=mat[run,0][:,:min_time]\n",
    "    data=np.vstack((data,temp))\n",
    "print('data shape:',data.shape)\n",
    "\n",
    "## CREATE LABELS\n",
    "# TODO: make this \"not hard coded\"; # labels = # of matlab imports\n",
    "label = np.vstack((np.zeros((run1,1), dtype=int),np.ones((run2,1), dtype=int),2*np.ones((run3,1), dtype=int))) #np.ones default type is float64\n",
    "print('label shape', label.shape)\n",
    "print('label sample', label[0:5],'\\n', label[run1:run1+5],'\\n', label[run1+run2:run1+run2+5])"
   ]
  },
  {
   "cell_type": "code",
   "execution_count": 4,
   "metadata": {},
   "outputs": [
    {
     "name": "stdout",
     "output_type": "stream",
     "text": [
      "x train shape (900, 47, 12)\n",
      "y train shape (900, 1)\n",
      "x test shape (300, 47, 12)\n",
      "y test shape (300, 1)\n",
      "\n",
      "x train sample [44.89109729 44.29459551 40.00327481 40.09247976 42.53319349 42.04923457\n",
      "  0.          0.          0.          0.          0.          0.        ]\n",
      "y train sample [0]\n",
      "\n",
      "SHUFFLE\n",
      "\n",
      "x train sample [40.58333502 43.26667927 43.94234136 44.35697473 41.63310461 44.84881005\n",
      "  0.          0.          0.          0.          0.          0.        ]\n",
      "\n",
      "y train sample [1]\n"
     ]
    }
   ],
   "source": [
    "## SPLIT DATA (TRAIN & TEST)\n",
    "test_percentage=0.25\n",
    "# data=data_s #comment out if want unscaled data\n",
    "x_gtrain, x_gtest, y_gtrain, y_gtest = train_test_split(data[:run1], label[:run1], test_size=test_percentage, random_state=0) #split each category separately (equal representation during training and testing)\n",
    "x_strain, x_stest, y_strain, y_stest = train_test_split(data[run1:run1+run2], label[run1:run1+run2], test_size=test_percentage, random_state=0)\n",
    "x_mtrain, x_mtest, y_mtrain, y_mtest = train_test_split(data[run1+run2:], label[run1+run2:], test_size=test_percentage, random_state=0)\n",
    "\n",
    "x_train = np.vstack((x_gtrain,x_strain,x_mtrain)) #recombine datasets\n",
    "x_test = np.vstack((x_gtest,x_stest,x_mtest))\n",
    "y_train = np.vstack((y_gtrain,y_strain,y_mtrain))\n",
    "y_test = np.vstack((y_gtest,y_stest,y_mtest))\n",
    "\n",
    "print('x train shape', x_train.shape)\n",
    "print('y train shape', y_train.shape)\n",
    "print('x test shape', x_test.shape)\n",
    "print('y test shape', y_test.shape)\n",
    "\n",
    "print('\\nx train sample',x_train[0,0])\n",
    "print('y train sample',y_train[0])\n",
    "\n",
    "## SHUFFLE TRAIN DATA\n",
    "x_train, y_train = shuffle(x_train, y_train, random_state=0)\n",
    "print('\\nSHUFFLE')\n",
    "print('\\nx train sample',x_train[0,0])\n",
    "print('\\ny train sample',y_train[0])"
   ]
  },
  {
   "cell_type": "code",
   "execution_count": 5,
   "metadata": {},
   "outputs": [
    {
     "name": "stdout",
     "output_type": "stream",
     "text": [
      "x train example: [40.58333502 43.26667927 43.94234136 44.35697473 41.63310461 44.84881005\n",
      "  0.          0.          0.          0.          0.          0.        ]\n",
      "\n",
      "x train scaled example: [1.20471601 1.48442231 1.58745593 1.62344323 1.32019543 1.65640636\n",
      " 2.95608284 2.97515408 2.95722768 2.93580124 2.95417776 2.95872511]\n",
      "\n",
      "mean: [29.51116375 29.65382697 29.3528706  29.69134805 29.68441988 29.89365086\n",
      " -0.59769934 -0.59657092 -0.60030101 -0.58860583 -0.59039838 -0.58632419]\n",
      "\n",
      "variance: [8.44687805e+01 8.40975453e+01 8.44647924e+01 8.16069299e+01\n",
      " 8.19150595e+01 8.15170215e+01 4.08820206e-02 4.02073300e-02\n",
      " 4.12067745e-02 4.01972010e-02 3.99408280e-02 3.92704967e-02]\n",
      "\n",
      "x test sample scaled example: [1.31309369 1.54899185 1.53779363 1.65535585 1.20731653 1.36248217\n",
      " 2.95608284 2.97515408 2.95722768 2.93580124 2.95417776 2.95872511]\n"
     ]
    }
   ],
   "source": [
    "## NORMALIZE DATA\n",
    "# FIT to training data only, then transform both training and test data (p.70 HOML)\n",
    "\n",
    "print('x train example:',x_train[0,0])\n",
    "scaler = StandardScaler()\n",
    "x_train = scaler.fit_transform(x_train.reshape(-1, x_train.shape[-1])).reshape(x_train.shape)\n",
    "print('\\nx train scaled example:',x_train[0,0])\n",
    "\n",
    "print('\\nmean:',scaler.mean_)\n",
    "print('\\nvariance:',scaler.var_)\n",
    "\n",
    "x_test = scaler.transform(x_test.reshape(-1, x_test.shape[-1])).reshape(x_test.shape)\n",
    "print('\\nx test sample scaled example:',x_test[0,0])"
   ]
  },
  {
   "cell_type": "code",
   "execution_count": 7,
   "metadata": {},
   "outputs": [],
   "source": [
    "## SAVE DATASET\n",
    "filename='data_3v9gsm_r1200_s.npz' # BvR: #blue v #red; gsm: greedy, smart, merge; r=# runs; s=scaled\n",
    "np.savez(filename, x_train=x_train, x_test=x_test, y_train=y_train, y_test=y_test)"
   ]
  }
 ],
 "metadata": {
  "kernelspec": {
   "display_name": "Python 3",
   "language": "python",
   "name": "python3"
  },
  "language_info": {
   "codemirror_mode": {
    "name": "ipython",
    "version": 3
   },
   "file_extension": ".py",
   "mimetype": "text/x-python",
   "name": "python",
   "nbconvert_exporter": "python",
   "pygments_lexer": "ipython3",
   "version": "3.11.3"
  },
  "orig_nbformat": 4
 },
 "nbformat": 4,
 "nbformat_minor": 2
}
